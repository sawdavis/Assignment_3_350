{
 "cells": [
  {
   "cell_type": "markdown",
   "id": "b873a1b1",
   "metadata": {},
   "source": [
    "### Imports"
   ]
  },
  {
   "cell_type": "code",
   "execution_count": null,
   "id": "0bc7ce3c-5f2c-4450-98bb-ecc7a6b0dc2a",
   "metadata": {},
   "outputs": [],
   "source": [
    "import pandas as pd\n",
    "import os"
   ]
  },
  {
   "cell_type": "code",
   "execution_count": null,
   "id": "d196ed52-d2ed-4328-a820-a877bb86441c",
   "metadata": {},
   "outputs": [],
   "source": [
    "from neo4j import GraphDatabase"
   ]
  },
  {
   "cell_type": "code",
   "execution_count": null,
   "id": "35744b6b-ad04-4269-8707-cf3b2757943a",
   "metadata": {},
   "outputs": [],
   "source": [
    "from graphdatascience import GraphDataScience"
   ]
  },
  {
   "cell_type": "markdown",
   "id": "cbe090a7",
   "metadata": {},
   "source": [
    "### Connect to Neo4j server"
   ]
  },
  {
   "cell_type": "code",
   "execution_count": null,
   "id": "4bccf046-ddad-424f-bcfa-058fcadba4c6",
   "metadata": {},
   "outputs": [],
   "source": [
    "NEO4J_URI = os.environ.get(\"NEO4J_URI\", \"bolt://localhost:7687\")"
   ]
  },
  {
   "cell_type": "code",
   "execution_count": null,
   "id": "47f17f98",
   "metadata": {},
   "outputs": [],
   "source": [
    "NEO4J_AUTH = ( \"neo4j\",  \"<Your Password>\") #Replace <Your Password> with your database password"
   ]
  },
  {
   "cell_type": "markdown",
   "id": "7ed856f2",
   "metadata": {},
   "source": [
    "### Make an instance of the Neo4j driver and an instance of GraphDataScience"
   ]
  },
  {
   "cell_type": "code",
   "execution_count": null,
   "id": "df54e0b7",
   "metadata": {},
   "outputs": [],
   "source": [
    "driver = GraphDatabase.driver(NEO4J_URI, auth=NEO4J_AUTH)"
   ]
  },
  {
   "cell_type": "code",
   "execution_count": null,
   "id": "497c35ae",
   "metadata": {},
   "outputs": [],
   "source": [
    "gds = GraphDataScience(NEO4J_URI, auth=NEO4J_AUTH)"
   ]
  },
  {
   "cell_type": "markdown",
   "id": "5d2f97bb",
   "metadata": {},
   "source": [
    "### Step 5: Create SHARED_PII relationships between clients"
   ]
  },
  {
   "cell_type": "code",
   "execution_count": null,
   "id": "f16bcc68",
   "metadata": {},
   "outputs": [],
   "source": [
    "create_pii_query = '''\n",
    "MATCH ( c:Client )-[ :HAS_EMAIL |:HAS_PHONE |:HAS_SSN ] -> (n) <-\n",
    "                    [ :HAS_EMAIL |:HAS_PHONE |:HAS_SSN ]- ( d:Client )\n",
    "WHERE id(c) < id(d)\n",
    "WITH c, d, count(*) AS cnt\n",
    "MERGE (c) - [ :SHARED_PII { count: cnt } ] -> (d)\n",
    "'''"
   ]
  },
  {
   "cell_type": "code",
   "execution_count": null,
   "id": "35d8974d",
   "metadata": {},
   "outputs": [],
   "source": [
    "gds.run_cypher(create_pii_query)"
   ]
  },
  {
   "cell_type": "markdown",
   "id": "fb8f80cc",
   "metadata": {},
   "source": [
    "### Step 6: Create Projection of the graph above"
   ]
  },
  {
   "cell_type": "code",
   "execution_count": null,
   "id": "91bc21c9",
   "metadata": {},
   "outputs": [],
   "source": [
    "graph_projection_query = '''\n",
    "CALL gds.graph.project(\n",
    "    'clientClusters' ,\n",
    "    { Client: {\n",
    "        label: 'Client' }\n",
    "    },\n",
    "    { SHARED_PII: {\n",
    "        type: 'SHARED_PII',\n",
    "        orientation: 'UNDIRECTED',\n",
    "        properties: {\n",
    "                count: {\n",
    "                    property: 'count' }\n",
    "            }\n",
    "        }\n",
    "    }\n",
    ")\n",
    "YIELD graphName, nodeCount, relationshipCount\n",
    "'''"
   ]
  },
  {
   "cell_type": "code",
   "execution_count": null,
   "id": "c2180144",
   "metadata": {},
   "outputs": [],
   "source": [
    "gds.run_cypher(graph_projection_query)"
   ]
  },
  {
   "cell_type": "markdown",
   "id": "41b073ad",
   "metadata": {},
   "source": [
    "### Step 7: Use the WCC algorithm to identify clusters of Client nodes"
   ]
  },
  {
   "cell_type": "code",
   "execution_count": null,
   "id": "19eb61f1",
   "metadata": {},
   "outputs": [],
   "source": [
    "streaming_query = '''\n",
    "CALL gds.wcc.stream(\n",
    "    'clientClusters',\n",
    "        {\n",
    "        nodeLabels: ['Client'],\n",
    "        relationshipTypes: ['SHARED_PII'],\n",
    "        consecutiveIds: true\n",
    "        }\n",
    "    )\n",
    "    YIELD nodeId, componentId\n",
    "    RETURN gds.util.asNode(nodeId).id AS clientId, componentId AS clusterId\n",
    "'''"
   ]
  },
  {
   "cell_type": "code",
   "execution_count": null,
   "id": "e25aa237",
   "metadata": {},
   "outputs": [],
   "source": [
    "import  neo4j"
   ]
  },
  {
   "cell_type": "code",
   "execution_count": null,
   "id": "b57885bc",
   "metadata": {},
   "outputs": [],
   "source": [
    "pandasDF = driver.execute_query(\n",
    "    streaming_query,\n",
    "    database_=\"neo4j\",\n",
    "    result_transformer_=  neo4j.Result.to_df\n",
    ")"
   ]
  },
  {
   "cell_type": "code",
   "execution_count": null,
   "id": "4a006db6",
   "metadata": {},
   "outputs": [],
   "source": [
    "print(type(pandasDF))"
   ]
  },
  {
   "cell_type": "code",
   "execution_count": null,
   "id": "32dcf38c",
   "metadata": {},
   "outputs": [],
   "source": [
    "pandasDF"
   ]
  },
  {
   "cell_type": "markdown",
   "id": "4e713ded",
   "metadata": {},
   "source": [
    "### Step 8: Mark possible fraudsters"
   ]
  },
  {
   "cell_type": "code",
   "execution_count": null,
   "id": "c0759b78",
   "metadata": {},
   "outputs": [],
   "source": [
    "streaming_query_2 = '''\n",
    "CALL gds.wcc.stream(\n",
    "    'clientClusters',\n",
    "        {\n",
    "        nodeLabels: ['Client'],\n",
    "        relationshipTypes: ['SHARED_PII'],\n",
    "        consecutiveIds: true\n",
    "        }\n",
    "    )\n",
    "    YIELD nodeId, componentId\n",
    "    WITH gds.util.asNode(nodeId) AS clientId , componentId AS clusterId\n",
    "    WITH clusterId, collect(clientId.id) AS clients\n",
    "    WITH clusterId, clients, size(clients) AS clusterSize WHERE clusterSize >= 2\n",
    "    UNWIND clients AS client\n",
    "    MATCH (c:Client) WHERE c.id = client\n",
    "    SET c.secondPartyFraudRing = clusterId\n",
    "'''"
   ]
  },
  {
   "cell_type": "code",
   "execution_count": null,
   "id": "faf3e6e6-0518-4be6-9e63-783f0dfcda40",
   "metadata": {},
   "outputs": [],
   "source": [
    "gds.run_cypher(streaming_query_2)"
   ]
  },
  {
   "cell_type": "markdown",
   "id": "c8f19ee2-1f05-4b39-8b9d-8247a0c38246",
   "metadata": {},
   "source": [
    "### Step 9: Bipartite graph for similarity"
   ]
  },
  {
   "cell_type": "code",
   "execution_count": null,
   "id": "b6438c50-f22f-430a-a1b3-2e7d942df31b",
   "metadata": {},
   "outputs": [],
   "source": [
    "query_9_1 = '''\n",
    "CALL gds.graph.project.cyoher(\n",
    "    'similarity',\n",
    "        \"UNWIND $nodes as n RETURN id(n) AS id, labels(n) AS labels\",\n",
    "        \"UNWIND $relationships as r RETURN id(r['source']) AS source, id(r['target']) AS target, 'HAS_PII' as type\",\n",
    "        {parameters: {nodes: nodes, relationships: relationships}}\n",
    "    )\n",
    "    MATCH (c:Client) WHERE c.secondPartyFraudRing is NOT NULL\n",
    "    WITH collect(c) as clients\n",
    "    MATCH (n) WHERE n:Email OR n:Phone OR n:SSN\n",
    "\n",
    "    WITH clients, collect(n) AS piis\n",
    "    WITH clients + piis AS nodes\n",
    "    \n",
    "    MATCH (c:Client) -[:HAS_EMAIL | :HAS_PHONE | :HAS_SSN]->(p)\n",
    "    WHERE c.secondPartyFraudRing is NOT NULL\n",
    "'''"
   ]
  },
  {
   "cell_type": "code",
   "execution_count": null,
   "id": "e9fa2745-e6ec-4bba-9763-d407bc56b9a7",
   "metadata": {},
   "outputs": [],
   "source": [
    "gds.run_cypher(query_9_1)"
   ]
  },
  {
   "cell_type": "code",
   "execution_count": null,
   "id": "7b2e719f-5c7f-417f-8d50-0a4c975f002e",
   "metadata": {},
   "outputs": [],
   "source": [
    "query_9_2 = '''\n",
    "CALL gds.nodeSimilarity.mutate('similarity', {\n",
    "    mutateProperty: 'jaccardScore',\n",
    "    mutateRelationshipType: 'SIMILAR_TO',\n",
    "    topK: 15\n",
    "    }\n",
    "    WITH nodes, collect({source: c, target: p}) as relationships\n",
    ")\n",
    "    CALL gds.graph.project.cypher( \n",
    "    'similarity',\n",
    "    \"UNWIND $nodes as n\n",
    "    RETURN id(n) AS id,labels(n) AS labels\",\n",
    "    \"UNWIND $relationships as r \n",
    "    RETURN id(r['source']) AS source, id(r['target']) AS target, \n",
    "    'HAS_PII' as type\",\n",
    "    { parameters: \n",
    "    { nodes: nodes, \n",
    "    relationships: relationships }\n",
    "    }\n",
    ")\n",
    "YIELD graphName, nodeCount, relationshipCount\n",
    "RETURN graphName, nodeCount, relationshipCount\n",
    "'''"
   ]
  },
  {
   "cell_type": "code",
   "execution_count": null,
   "id": "8a13c469-1488-40fd-80b3-e11b763d7111",
   "metadata": {},
   "outputs": [],
   "source": [
    "gds.run_cypher(query_9_2)"
   ]
  },
  {
   "cell_type": "markdown",
   "id": "37a1c67c-a1e4-4279-8a93-d36328e5a1c5",
   "metadata": {},
   "source": [
    "### Step 10: Node similarity"
   ]
  },
  {
   "cell_type": "code",
   "execution_count": null,
   "id": "326ef6e8-2188-4494-9ee3-a4330b814480",
   "metadata": {},
   "outputs": [],
   "source": [
    "query_10 = '''\n",
    "CALL gds.nodeSimilarity.mutate('similarity', {\n",
    "    mutateProperty: 'jaccardScore',\n",
    "    mutateRelationshipType: 'SIMILAR_TO',\n",
    "    topK: 15\n",
    "})\n",
    "YIELD nodesCompared, relationshipsWritten, mutateMillis\n",
    "RETURN nodesCompared, relationshipsWritten, mutateMillis\n",
    "'''"
   ]
  },
  {
   "cell_type": "code",
   "execution_count": null,
   "id": "8cbd3130-bce2-4d79-8acf-2412a1c2665b",
   "metadata": {},
   "outputs": [],
   "source": [
    "result = execute_query(query_10)\n",
    "for record in result:\n",
    "    print(record)"
   ]
  },
  {
   "cell_type": "markdown",
   "id": "a0b6a98a-c5ce-4516-a65e-786dc7b117e2",
   "metadata": {},
   "source": [
    "### Step 11: Writing Results"
   ]
  },
  {
   "cell_type": "code",
   "execution_count": null,
   "id": "1a2f7fea-6e24-42a9-8b3f-2df3b0cf9451",
   "metadata": {},
   "outputs": [],
   "source": [
    "similarity_query = '''\n",
    "CALL gds.graph.writeRelationship('similarity', {\n",
    "    relationshipType: 'SIMILAR_TO',\n",
    "    properties: ['jaccardScore']\n",
    "})\n",
    "YIELD relationshipsWritten, writeMillis\n",
    "RETURN relationshipsWritten, writeMillis\n",
    "'''"
   ]
  },
  {
   "cell_type": "code",
   "execution_count": null,
   "id": "0dc77025-6a62-4686-bc37-aaad79ffb6ec",
   "metadata": {},
   "outputs": [],
   "source": [
    "result = execute_query(similarity_query)\n",
    "for record in result:\n",
    "    print(f\"Relationships Written: {record['relationshipsWritten']}, Time Taken: {record['writeMillis']} ms\")"
   ]
  },
  {
   "cell_type": "code",
   "execution_count": null,
   "id": "d8f10af6-56af-4566-8ec4-5e304b0fe07c",
   "metadata": {},
   "outputs": [],
   "source": [
    "validation_query = '''\n",
    "MATCH (c1:Client)-[r:SIMILAR_TO]->(c2:Client)\n",
    "RETURN c1.id AS Client1, c2.id AS Client2, r.jaccardScore AS Score\n",
    "LIMIT 10\n",
    "'''"
   ]
  },
  {
   "cell_type": "code",
   "execution_count": null,
   "id": "b0749e5f-874b-4d86-b7e8-7fd73cd3f3e6",
   "metadata": {},
   "outputs": [],
   "source": [
    "results = execute_query(validation_query)\n",
    "df = pd.DataFrame([dict(record) for record in results])\n",
    "display(df)"
   ]
  },
  {
   "cell_type": "markdown",
   "id": "344cefa5-8946-4040-9d8b-8abae2e0ed9b",
   "metadata": {},
   "source": [
    "### Step 12: "
   ]
  },
  {
   "cell_type": "code",
   "execution_count": null,
   "id": "1d9aea88-718c-456f-a65e-6db7ee05f3cd",
   "metadata": {},
   "outputs": [],
   "source": [
    "CALL gds.degree.write({\n",
    "  nodeLabels: ['Client'],\n",
    "  relationshipTypes: ['SIMILAR_TO'],\n",
    "  relationshipWeightProperty: 'jaccardScore',\n",
    "  writeProperty: 'secondPartyFraudScore'\n",
    "})\n",
    "YIELD nodePropertiesWritten, ranIterations"
   ]
  },
  {
   "cell_type": "code",
   "execution_count": null,
   "id": "fa8ce01d-27db-48c0-8381-6ea12899e1c4",
   "metadata": {},
   "outputs": [],
   "source": [
    "MATCH (c:Client)\n",
    "RETURN c.name AS ClientName, c.secondPartyFraudScore AS FraudScore\n",
    "ORDER BY FraudScore DESC\n",
    "LIMIT 10"
   ]
  },
  {
   "cell_type": "markdown",
   "id": "136c5995-6f13-4950-8e6d-821307a887e3",
   "metadata": {},
   "source": [
    "### Step 13: "
   ]
  },
  {
   "cell_type": "code",
   "execution_count": null,
   "id": "cd292f07-7e97-4f2b-908d-5540a63e4a24",
   "metadata": {},
   "outputs": [],
   "source": [
    "MATCH (c:Client)\n",
    "WHERE c.secondPartyFraudScore IS NOT NULL\n",
    "WITH percentileCont(c.secondPartyFraudScore, 0.95) AS threshold\n",
    "MATCH (c:Client)\n",
    "WHERE c.secondPartyFraudScore > threshold\n",
    "SET c.SecondPartyFraudster = true\n",
    "RETURN c.name AS ClientName, c.secondPartyFraudScore AS FraudScore, c.SecondPartyFraudster AS IsFraudster"
   ]
  },
  {
   "cell_type": "markdown",
   "id": "c1cce070-9a90-4f7c-a5cb-6090da8f2861",
   "metadata": {},
   "source": [
    "### Step 14: "
   ]
  },
  {
   "cell_type": "code",
   "execution_count": null,
   "id": "db81effb-656a-4147-bed9-937205dbaa1d",
   "metadata": {},
   "outputs": [],
   "source": [
    "from neo4j import GraphDatabase\n",
    "import pandas as pd\n",
    "\n",
    "uri = \"bolt://localhost:7687\"  \n",
    "username = \"abc\"             \n",
    "password = \"abcd\"     \n",
    "\n",
    "driver = GraphDatabase.driver(uri, auth=(username, password))\n",
    "\n",
    "query = \"\"\"\n",
    "MATCH (c:Client)\n",
    "WHERE c.SecondPartyFraudster = true\n",
    "RETURN c.name AS Name, ID(c) AS ID\n",
    "\"\"\"\n",
    "\n",
    "def fetch_data(query):\n",
    "    with driver.session() as session:\n",
    "        results = session.run(query)\n",
    "        \n",
    "        data = [record.data() for record in results]\n",
    "        return pd.DataFrame(data)\n",
    "\n",
    "fraudsters_df = fetch_data(query)\n",
    "\n",
    "print(fraudsters_df)\n"
   ]
  }
 ],
 "metadata": {
  "kernelspec": {
   "display_name": "Python 3 (ipykernel)",
   "language": "python",
   "name": "python3"
  },
  "language_info": {
   "codemirror_mode": {
    "name": "ipython",
    "version": 3
   },
   "file_extension": ".py",
   "mimetype": "text/x-python",
   "name": "python",
   "nbconvert_exporter": "python",
   "pygments_lexer": "ipython3",
   "version": "3.12.7"
  }
 },
 "nbformat": 4,
 "nbformat_minor": 5
}

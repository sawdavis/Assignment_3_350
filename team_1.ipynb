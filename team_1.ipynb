{
 "cells": [
  {
   "cell_type": "markdown",
   "id": "b873a1b1",
   "metadata": {},
   "source": [
    "### Imports"
   ]
  },
  {
   "cell_type": "code",
   "execution_count": 1,
   "id": "0bc7ce3c-5f2c-4450-98bb-ecc7a6b0dc2a",
   "metadata": {},
   "outputs": [],
   "source": [
    "import pandas as pd\n",
    "import os"
   ]
  },
  {
   "cell_type": "code",
   "execution_count": 2,
   "id": "d196ed52-d2ed-4328-a820-a877bb86441c",
   "metadata": {},
   "outputs": [],
   "source": [
    "from neo4j import GraphDatabase"
   ]
  },
  {
   "cell_type": "code",
   "execution_count": 3,
   "id": "35744b6b-ad04-4269-8707-cf3b2757943a",
   "metadata": {},
   "outputs": [],
   "source": [
    "from graphdatascience import GraphDataScience"
   ]
  },
  {
   "cell_type": "markdown",
   "id": "cbe090a7",
   "metadata": {},
   "source": [
    "### Connect to Neo4j server"
   ]
  },
  {
   "cell_type": "code",
   "execution_count": 4,
   "id": "4bccf046-ddad-424f-bcfa-058fcadba4c6",
   "metadata": {},
   "outputs": [],
   "source": [
    "NEO4J_URI = os.environ.get(\"NEO4J_URI\", \"bolt://localhost:7687\")"
   ]
  },
  {
   "cell_type": "code",
   "execution_count": null,
   "id": "47f17f98",
   "metadata": {},
   "outputs": [],
   "source": [
    "NEO4J_AUTH = ( \"neo4j\",  \"<Your Password>\") #Replace <Your Password> with your database password"
   ]
  },
  {
   "cell_type": "markdown",
   "id": "7ed856f2",
   "metadata": {},
   "source": [
    "### Make an instance of the Neo4j driver and an instance of GraphDataScience"
   ]
  },
  {
   "cell_type": "code",
   "execution_count": 6,
   "id": "df54e0b7",
   "metadata": {},
   "outputs": [],
   "source": [
    "driver = GraphDatabase.driver(NEO4J_URI, auth=NEO4J_AUTH)"
   ]
  },
  {
   "cell_type": "code",
   "execution_count": 7,
   "id": "497c35ae",
   "metadata": {},
   "outputs": [],
   "source": [
    "gds = GraphDataScience(NEO4J_URI, auth=NEO4J_AUTH)"
   ]
  },
  {
   "cell_type": "markdown",
   "id": "5d2f97bb",
   "metadata": {},
   "source": [
    "### Step 5: Create SHARED_PII relationships between clients"
   ]
  },
  {
   "cell_type": "code",
   "execution_count": 8,
   "id": "f16bcc68",
   "metadata": {},
   "outputs": [],
   "source": [
    "create_pii_query = '''\n",
    "MATCH ( c:Client )-[ :HAS_EMAIL |:HAS_PHONE |:HAS_SSN ] -> (n) <-\n",
    "                    [ :HAS_EMAIL |:HAS_PHONE |:HAS_SSN ]- ( d:Client )\n",
    "WHERE id(c) < id(d)\n",
    "WITH c, d, count(*) AS cnt\n",
    "MERGE (c) - [ :SHARED_PII { count: cnt } ] -> (d)\n",
    "'''"
   ]
  },
  {
   "cell_type": "code",
   "execution_count": 11,
   "id": "35d8974d",
   "metadata": {},
   "outputs": [
    {
     "name": "stderr",
     "output_type": "stream",
     "text": [
      "c:\\Users\\jwink\\.conda\\envs\\CS350graph\\Lib\\site-packages\\graphdatascience\\query_runner\\neo4j_query_runner.py:234: RuntimeWarning: The semantics of using colon in the separation of alternative relationship types will change in a future version. (Please use ':HAS_EMAIL|HAS_PHONE|HAS_SSN' instead)\n",
      "  warnings.warn(warning)\n"
     ]
    },
    {
     "data": {
      "text/html": [
       "<div>\n",
       "<style scoped>\n",
       "    .dataframe tbody tr th:only-of-type {\n",
       "        vertical-align: middle;\n",
       "    }\n",
       "\n",
       "    .dataframe tbody tr th {\n",
       "        vertical-align: top;\n",
       "    }\n",
       "\n",
       "    .dataframe thead th {\n",
       "        text-align: right;\n",
       "    }\n",
       "</style>\n",
       "<table border=\"1\" class=\"dataframe\">\n",
       "  <thead>\n",
       "    <tr style=\"text-align: right;\">\n",
       "      <th></th>\n",
       "    </tr>\n",
       "  </thead>\n",
       "  <tbody>\n",
       "  </tbody>\n",
       "</table>\n",
       "</div>"
      ],
      "text/plain": [
       "Empty DataFrame\n",
       "Columns: []\n",
       "Index: []"
      ]
     },
     "execution_count": 11,
     "metadata": {},
     "output_type": "execute_result"
    }
   ],
   "source": [
    "gds.run_cypher(create_pii_query)"
   ]
  },
  {
   "cell_type": "markdown",
   "id": "fb8f80cc",
   "metadata": {},
   "source": [
    "### Step 6: Create Projection of the graph above"
   ]
  },
  {
   "cell_type": "code",
   "execution_count": 12,
   "id": "91bc21c9",
   "metadata": {},
   "outputs": [],
   "source": [
    "graph_projection_query = '''\n",
    "CALL gds.graph.project(\n",
    "    'clientClusters' ,\n",
    "    { Client: {\n",
    "        label: 'Client' }\n",
    "    },\n",
    "    { SHARED_PII: {\n",
    "        type: 'SHARED_PII',\n",
    "        orientation: 'UNDIRECTED',\n",
    "        properties: {\n",
    "                count: {\n",
    "                    property: 'count' }\n",
    "            }\n",
    "        }\n",
    "    }\n",
    ")\n",
    "YIELD graphName, nodeCount, relationshipCount\n",
    "'''"
   ]
  },
  {
   "cell_type": "code",
   "execution_count": 13,
   "id": "c2180144",
   "metadata": {},
   "outputs": [
    {
     "data": {
      "text/html": [
       "<div>\n",
       "<style scoped>\n",
       "    .dataframe tbody tr th:only-of-type {\n",
       "        vertical-align: middle;\n",
       "    }\n",
       "\n",
       "    .dataframe tbody tr th {\n",
       "        vertical-align: top;\n",
       "    }\n",
       "\n",
       "    .dataframe thead th {\n",
       "        text-align: right;\n",
       "    }\n",
       "</style>\n",
       "<table border=\"1\" class=\"dataframe\">\n",
       "  <thead>\n",
       "    <tr style=\"text-align: right;\">\n",
       "      <th></th>\n",
       "      <th>graphName</th>\n",
       "      <th>nodeCount</th>\n",
       "      <th>relationshipCount</th>\n",
       "    </tr>\n",
       "  </thead>\n",
       "  <tbody>\n",
       "    <tr>\n",
       "      <th>0</th>\n",
       "      <td>clientClusters</td>\n",
       "      <td>2433</td>\n",
       "      <td>1518</td>\n",
       "    </tr>\n",
       "  </tbody>\n",
       "</table>\n",
       "</div>"
      ],
      "text/plain": [
       "        graphName  nodeCount  relationshipCount\n",
       "0  clientClusters       2433               1518"
      ]
     },
     "execution_count": 13,
     "metadata": {},
     "output_type": "execute_result"
    }
   ],
   "source": [
    "gds.run_cypher(graph_projection_query)"
   ]
  },
  {
   "cell_type": "markdown",
   "id": "41b073ad",
   "metadata": {},
   "source": [
    "### Step 7: Use the WCC algorithm to identify clusters of Client nodes"
   ]
  },
  {
   "cell_type": "code",
   "execution_count": 14,
   "id": "19eb61f1",
   "metadata": {},
   "outputs": [],
   "source": [
    "streaming_query = '''\n",
    "CALL gds.wcc.stream(\n",
    "    'clientClusters',\n",
    "        {\n",
    "        nodeLabels: ['Client'],\n",
    "        relationshipTypes: ['SHARED_PII'],\n",
    "        consecutiveIds: true\n",
    "        }\n",
    "    )\n",
    "    YIELD nodeId, componentId\n",
    "    RETURN gds.util.asNode(nodeId).id AS clientId, componentId AS clusterId\n",
    "'''"
   ]
  },
  {
   "cell_type": "code",
   "execution_count": 15,
   "id": "e25aa237",
   "metadata": {},
   "outputs": [],
   "source": [
    "import  neo4j"
   ]
  },
  {
   "cell_type": "code",
   "execution_count": 16,
   "id": "b57885bc",
   "metadata": {},
   "outputs": [],
   "source": [
    "pandasDF = driver.execute_query(\n",
    "    streaming_query,\n",
    "    database_=\"neo4j\",\n",
    "    result_transformer_=  neo4j.Result.to_df\n",
    ")"
   ]
  },
  {
   "cell_type": "code",
   "execution_count": 17,
   "id": "4a006db6",
   "metadata": {},
   "outputs": [
    {
     "name": "stdout",
     "output_type": "stream",
     "text": [
      "<class 'pandas.core.frame.DataFrame'>\n"
     ]
    }
   ],
   "source": [
    "print(type(pandasDF))"
   ]
  },
  {
   "cell_type": "code",
   "execution_count": 18,
   "id": "32dcf38c",
   "metadata": {},
   "outputs": [
    {
     "data": {
      "text/html": [
       "<div>\n",
       "<style scoped>\n",
       "    .dataframe tbody tr th:only-of-type {\n",
       "        vertical-align: middle;\n",
       "    }\n",
       "\n",
       "    .dataframe tbody tr th {\n",
       "        vertical-align: top;\n",
       "    }\n",
       "\n",
       "    .dataframe thead th {\n",
       "        text-align: right;\n",
       "    }\n",
       "</style>\n",
       "<table border=\"1\" class=\"dataframe\">\n",
       "  <thead>\n",
       "    <tr style=\"text-align: right;\">\n",
       "      <th></th>\n",
       "      <th>clientId</th>\n",
       "      <th>clusterId</th>\n",
       "    </tr>\n",
       "  </thead>\n",
       "  <tbody>\n",
       "    <tr>\n",
       "      <th>0</th>\n",
       "      <td>4997933060327094</td>\n",
       "      <td>0</td>\n",
       "    </tr>\n",
       "    <tr>\n",
       "      <th>1</th>\n",
       "      <td>4776276949898423</td>\n",
       "      <td>1</td>\n",
       "    </tr>\n",
       "    <tr>\n",
       "      <th>2</th>\n",
       "      <td>4858607188760216</td>\n",
       "      <td>2</td>\n",
       "    </tr>\n",
       "    <tr>\n",
       "      <th>3</th>\n",
       "      <td>4287186486553145</td>\n",
       "      <td>3</td>\n",
       "    </tr>\n",
       "    <tr>\n",
       "      <th>4</th>\n",
       "      <td>4661202154682409</td>\n",
       "      <td>4</td>\n",
       "    </tr>\n",
       "    <tr>\n",
       "      <th>...</th>\n",
       "      <td>...</td>\n",
       "      <td>...</td>\n",
       "    </tr>\n",
       "    <tr>\n",
       "      <th>2428</th>\n",
       "      <td>4413385955087620</td>\n",
       "      <td>1767</td>\n",
       "    </tr>\n",
       "    <tr>\n",
       "      <th>2429</th>\n",
       "      <td>4550448544478545</td>\n",
       "      <td>1862</td>\n",
       "    </tr>\n",
       "    <tr>\n",
       "      <th>2430</th>\n",
       "      <td>4114683318919154</td>\n",
       "      <td>334</td>\n",
       "    </tr>\n",
       "    <tr>\n",
       "      <th>2431</th>\n",
       "      <td>4172817689754167</td>\n",
       "      <td>2113</td>\n",
       "    </tr>\n",
       "    <tr>\n",
       "      <th>2432</th>\n",
       "      <td>4210575070378533</td>\n",
       "      <td>2131</td>\n",
       "    </tr>\n",
       "  </tbody>\n",
       "</table>\n",
       "<p>2433 rows × 2 columns</p>\n",
       "</div>"
      ],
      "text/plain": [
       "              clientId  clusterId\n",
       "0     4997933060327094          0\n",
       "1     4776276949898423          1\n",
       "2     4858607188760216          2\n",
       "3     4287186486553145          3\n",
       "4     4661202154682409          4\n",
       "...                ...        ...\n",
       "2428  4413385955087620       1767\n",
       "2429  4550448544478545       1862\n",
       "2430  4114683318919154        334\n",
       "2431  4172817689754167       2113\n",
       "2432  4210575070378533       2131\n",
       "\n",
       "[2433 rows x 2 columns]"
      ]
     },
     "execution_count": 18,
     "metadata": {},
     "output_type": "execute_result"
    }
   ],
   "source": [
    "pandasDF"
   ]
  },
  {
   "cell_type": "markdown",
   "id": "4e713ded",
   "metadata": {},
   "source": [
    "### Step 8: Mark possible fraudsters"
   ]
  },
  {
   "cell_type": "code",
   "execution_count": 19,
   "id": "c0759b78",
   "metadata": {},
   "outputs": [],
   "source": [
    "streaming_query_2 = '''\n",
    "CALL gds.wcc.stream(\n",
    "    'clientClusters',\n",
    "        {\n",
    "        nodeLabels: ['Client'],\n",
    "        relationshipTypes: ['SHARED_PII'],\n",
    "        consecutiveIds: true\n",
    "        }\n",
    "    )\n",
    "    YIELD nodeId, componentId\n",
    "    WITH gds.util.asNode(nodeId) AS clientId , componentId AS clusterId\n",
    "    WITH clusterId, collect(clientId.id) AS clients\n",
    "    WITH clusterId, clients, size(clients) AS clusterSize WHERE clusterSize >= 2\n",
    "    UNWIND clients AS client\n",
    "    MATCH (c:Client) WHERE c.id = client\n",
    "    SET c.secondPartyFraudRing = clusterId\n",
    "'''"
   ]
  },
  {
   "cell_type": "code",
   "execution_count": 20,
   "id": "7e7ba8d9",
   "metadata": {},
   "outputs": [
    {
     "data": {
      "text/html": [
       "<div>\n",
       "<style scoped>\n",
       "    .dataframe tbody tr th:only-of-type {\n",
       "        vertical-align: middle;\n",
       "    }\n",
       "\n",
       "    .dataframe tbody tr th {\n",
       "        vertical-align: top;\n",
       "    }\n",
       "\n",
       "    .dataframe thead th {\n",
       "        text-align: right;\n",
       "    }\n",
       "</style>\n",
       "<table border=\"1\" class=\"dataframe\">\n",
       "  <thead>\n",
       "    <tr style=\"text-align: right;\">\n",
       "      <th></th>\n",
       "    </tr>\n",
       "  </thead>\n",
       "  <tbody>\n",
       "  </tbody>\n",
       "</table>\n",
       "</div>"
      ],
      "text/plain": [
       "Empty DataFrame\n",
       "Columns: []\n",
       "Index: []"
      ]
     },
     "execution_count": 20,
     "metadata": {},
     "output_type": "execute_result"
    }
   ],
   "source": [
    "gds.run_cypher(streaming_query_2)"
   ]
  }
 ],
 "metadata": {
  "kernelspec": {
   "display_name": "CS350graph",
   "language": "python",
   "name": "python3"
  },
  "language_info": {
   "codemirror_mode": {
    "name": "ipython",
    "version": 3
   },
   "file_extension": ".py",
   "mimetype": "text/x-python",
   "name": "python",
   "nbconvert_exporter": "python",
   "pygments_lexer": "ipython3",
   "version": "3.12.7"
  }
 },
 "nbformat": 4,
 "nbformat_minor": 5
}
